{
 "cells": [
  {
   "cell_type": "markdown",
   "metadata": {},
   "source": [
    "# Part 2"
   ]
  },
  {
   "cell_type": "code",
   "execution_count": 1,
   "metadata": {},
   "outputs": [],
   "source": [
    "import pandas as pd\n",
    "import numpy as np\n",
    "import matplotlib.pyplot as plt\n",
    "import scipy.stats as sp\n",
    "\n",
    "plt.rcParams[\"figure.figsize\"] = (8,5)"
   ]
  },
  {
   "cell_type": "markdown",
   "metadata": {},
   "source": [
    "- First let's figure out what 'two moon' look like"
   ]
  },
  {
   "cell_type": "code",
   "execution_count": 2,
   "metadata": {},
   "outputs": [
    {
     "name": "stdout",
     "output_type": "stream",
     "text": [
      "It's beautiful.\n"
     ]
    },
    {
     "data": {
      "image/png": "[encoded data removed]",
      "text/plain": [
       "<Figure size 576x360 with 1 Axes>"
      ]
     },
     "metadata": {
      "needs_background": "light"
     },
     "output_type": "display_data"
    }
   ],
   "source": [
    "## Generate Data\n",
    "from sklearn.datasets import make_moons\n",
    "\n",
    "# Make two moons\n",
    "moons_pos, moons_label = make_moons(n_samples=200, noise=0.05, shuffle=False, random_state=0)\n",
    "\n",
    "# Plot two moons\n",
    "plt.plot(moons_pos[:,0],moons_pos[:,1],'.')\n",
    "print(\"It's beautiful.\")"
   ]
  },
  {
   "cell_type": "markdown",
   "metadata": {},
   "source": [
    "- Second, let's go to read the bloody paper"
   ]
  },
  {
   "cell_type": "markdown",
   "metadata": {},
   "source": [
    "- Third, let's implement LapGMM"
   ]
  },
  {
   "cell_type": "code",
   "execution_count": 265,
   "metadata": {},
   "outputs": [],
   "source": [
    "from sklearn.cluster import KMeans\n",
    "from scipy.stats import multivariate_normal\n",
    "from sklearn.neighbors import kneighbors_graph\n",
    "\n",
    "\n",
    "class LapGMM:\n",
    "    \n",
    "    def __init__(self, data, K=2, p=8, lmd=1e3, tol=1e-6, weight_matrix='D-P',inner_max_iter = 200,outer_max_iter = 1000):\n",
    "        '''\n",
    "        Initilize the hyperparameter,\n",
    "        Construct a nearest neighbor graph with weight matrix S,\n",
    "        Initialize the parameters Theta_0 by using K-means algorithm.\n",
    "        \n",
    "        Input: \n",
    "        data: mxn np.array, m is the number of points, n is the dimension\n",
    "        K: the number of clusters\n",
    "        p: the number of nearest neighbors\n",
    "        lmd: regularization parameter\n",
    "        tol: the termination condition value\n",
    "        '''\n",
    "        \n",
    "        # Initilize the hyperparameter\n",
    "        self.random_seed = 0\n",
    "        self.data = np.array(data)\n",
    "        self.m, self.n = data.shape\n",
    "        self.K = K\n",
    "        self.p = p\n",
    "        self.lmd = lmd\n",
    "        self.tol = tol\n",
    "        self.gamma = 0.9 # Set the initial value γ = 0.9\n",
    "        self.weight_matrix = weight_matrix\n",
    "        \n",
    "        self.inner_max_iter = inner_max_iter\n",
    "        self.outer_max_iter = outer_max_iter\n",
    "        self.count = 1\n",
    "        \n",
    "        # Construct a nearest neighbor graph\n",
    "        self._Construct_S()\n",
    "        \n",
    "        # Initialize the parameters Theta_0 and posterior probability by using K-means algorithm\n",
    "        self._Init_Theta0()\n",
    "\n",
    "        # Initialize the regularized log likelihood\n",
    "        self.reg_loglikelihood = self._Eval_Regularized_LL(self.posterior_prob, self.alpha, self.mu, self.sigma,self.data)\n",
    "        \n",
    "    def _Construct_S(self):\n",
    "        '''\n",
    "        Construct a nearest neighbor graph with weight matrix S\n",
    "        '''\n",
    "        \n",
    "        # Calculate the Euclidean distances\n",
    "        #distance_matrix = np.linalg.norm(np.expand_dims(self.data,axis=1) - self.data, axis=-1)\n",
    "        # Get the p nearest neighbors indices\n",
    "        #kth = self.p\n",
    "        #idx = np.argpartition(distance_matrix, kth=kth, axis=-1)[:,:kth]\n",
    "        \n",
    "        idx = kneighbors_graph(self.data, n_neighbors=self.p).toarray()\n",
    "        \n",
    "        # Initialize the weight matrix to zero\n",
    "        self.S = np.zeros((self.m, self.m))\n",
    "        \n",
    "        for i in range(self.m):\n",
    "            for j in range(self.m):\n",
    "                \n",
    "                if idx[i][j]==1:\n",
    "                    \n",
    "                    if self.weight_matrix=='0-1':\n",
    "                        self.S[i,j]=1\n",
    "                    elif self.weight_matrix.upper()=='H-K':\n",
    "                        ##\n",
    "                        # !!! This could be extended\n",
    "                        ##\n",
    "                        self.S[i,j]=1\n",
    "                    elif self.weight_matrix.upper()=='D-P':\n",
    "                        self.S[i,j]=np.dot(self.data[i,:],self.data[j,:])\n",
    "                    else : \n",
    "                        raise ValueError('Please enter the correct definition of weight matrix.')\n",
    "                        \n",
    "                    self.S[j,i]=self.S[i,j] # note it is an undirected graph\n",
    "\n",
    "        # construct L\n",
    "        D = np.diag(np.sum(self.S, axis = 1))\n",
    "        self.L = D-self.S\n",
    "    \n",
    "    def _Init_Theta0(self):\n",
    "        # Use K-means as a warm start\n",
    "        kmeans = KMeans(n_clusters=self.K, random_state=self.random_seed).fit(self.data)\n",
    "        \n",
    "        self.alpha = np.array([ np.sum(kmeans.labels_==i)/self.m for i in range(self.K)])\n",
    "\n",
    "        self.mu = kmeans.cluster_centers_\n",
    "        self.sigma = [np.cov(self.data[kmeans.labels_==i], rowvar=False) for i in range(self.K)]\n",
    "        \n",
    "        self.posterior_prob = self._E_step()\n",
    "        \n",
    "        \n",
    "    def run(self):\n",
    "        \n",
    "        while self.count < self.outer_max_iter:\n",
    "            self.gamma = 0.9 # Reset the size of step\n",
    "            \n",
    "            self._E_step() # Run the E step.\n",
    "            \n",
    "            inner_loop = 1\n",
    "            while True:\n",
    "                \n",
    "                posterior_prob_update, alpha_update, mu_update, sigma_update = self._M_step(self.posterior_prob,self.gamma) # Run M step\n",
    "                \n",
    "                reg_log_likeli_n = self._Eval_Regularized_LL(posterior_prob_update, alpha_update, mu_update, sigma_update,self.data) # Evaluate the updated regularized log likelihood after M step\n",
    "                \n",
    "                reg_log_likeli_increment = reg_log_likeli_n - self.reg_loglikelihood # Calculate the LL increment\n",
    "                if reg_log_likeli_increment > 0:\n",
    "                    break\n",
    "                    \n",
    "                if inner_loop == self.inner_max_iter:\n",
    "                    print(\"\\nM-step didn't converge, it hit the maximum number of iterations\")\n",
    "                    print('Now regularized log likelihood is = ',reg_log_likeli_n)\n",
    "                    break\n",
    "                self.gamma *= 0.9\n",
    "                inner_loop += 1\n",
    "                \n",
    "            # Successfully Run M step, i.e. LL increases after this iteration\n",
    "            # Update the parameters\n",
    "            self.alpha = alpha_update\n",
    "            self.mu = mu_update\n",
    "            self.sigma = sigma_update\n",
    "            self.posterior_prob = posterior_prob_update\n",
    "            self.reg_loglikelihood = reg_log_likeli_n\n",
    "            \n",
    "            # print('# inner_iterations = ',inner_loop)\n",
    "            # print('Get out M-step, now reg_ll = ', reg_log_likeli_n)\n",
    "            \n",
    "            if reg_log_likeli_increment > 0 and reg_log_likeli_increment < self.tol:\n",
    "                break\n",
    "            self.count += 1\n",
    "            \n",
    "            if self.count % 200 == 0:\n",
    "                print('\\niteration #{}, reg_ll = {}'.format(self.count,reg_log_likeli_n))\n",
    "\n",
    "        if self.count >= self.outer_max_iter:\n",
    "            print(\"\\nThe regularized log likelihood didn't converge, it hit the maximum number of iterations.\\n\")\n",
    "    \n",
    "    def _E_step(self):\n",
    "        \n",
    "        # Calculate p(x_i | theta_k)\n",
    "        normal_prob = np.zeros((self.m, self.K))\n",
    "        for k in range(self.K):\n",
    "            # For each component\n",
    "            normal_prob[:,k] = multivariate_normal.pdf(self.data, mean=self.mu[k,:],cov=self.sigma[k])\n",
    "            \n",
    "        # Calculate the updated posterior probability\n",
    "        numerator = self.alpha * normal_prob\n",
    "        denominator = np.sum(numerator, axis = 1, keepdims=True)\n",
    "        \n",
    "        #self.posterior_prob = numerator / denominator\n",
    "        return numerator / denominator\n",
    "        \n",
    "    def _M_step(self, posterior_prob, gamma):\n",
    "        \n",
    "        # Calculate posterior_prob_update\n",
    "        second_term_numerator = np.dot(self.S, posterior_prob)\n",
    "        second_term_denominator = np.sum(self.S, axis = 1, keepdims=True)\n",
    "        second_term = second_term_numerator / second_term_denominator\n",
    "        \n",
    "        posterior_prob_update = (1-gamma)*posterior_prob + gamma*second_term\n",
    "        \n",
    "        # Calculate alpha_update\n",
    "        alpha_update = np.sum(posterior_prob_update, axis=0, keepdims=False) / self.m\n",
    "        \n",
    "        # Calculate mu_update\n",
    "        mu_numerator = np.dot(posterior_prob_update.T, self.data)\n",
    "        mu_denominator = np.sum(posterior_prob_update, axis=0, keepdims=True).T\n",
    "        mu_update = mu_numerator / mu_denominator\n",
    "        \n",
    "        # Calculate sigma_update\n",
    "        sigma_update = []\n",
    "        for k in range(self.K):\n",
    "            \n",
    "            sigma_tmp = np.zeros((self.n,self.n))\n",
    "            for j in range(self.m):                \n",
    "                sigma_tmp = sigma_tmp + np.dot( (self.data[j,:]-mu_update[k,:]).reshape(-1,1),\\\n",
    "                                    (self.data[j,:]-mu_update[k,:]).reshape(1,-1) ) * \\\n",
    "                posterior_prob_update[j,k]\n",
    "                \n",
    "            sigma_tmp = sigma_tmp / np.sum(posterior_prob_update[:,k])\n",
    "            \n",
    "            sigma_update.append(sigma_tmp)\n",
    "\n",
    "        return posterior_prob_update, alpha_update, mu_update, sigma_update\n",
    "    \n",
    "    def _Eval_Regularized_LL(self, posterior_prob, alpha, mu, sigma, data, verbose = False):\n",
    "        # Calculate p(x_i | theta_k)\n",
    "        normal_prob = np.zeros((self.m, self.K))\n",
    "        \n",
    "        for k in range(self.K):\n",
    "            # For each component\n",
    "            normal_prob[:,k] = multivariate_normal.pdf(self.data, mean=mu[k,:],cov=sigma[k])\n",
    "        \n",
    "        log_likelihood = np.log(np.dot(normal_prob, alpha.reshape(-1,1)))\n",
    "        log_likelihood = np.sum(log_likelihood)\n",
    "        \n",
    "        R = 0.0\n",
    "        \n",
    "        for k in range(self.K):\n",
    "            \n",
    "            R += np.squeeze(np.dot(np.dot(posterior_prob[:,k].reshape(1,-1),self.L), \\\n",
    "                                             posterior_prob[:,k].reshape(-1,1)) )\n",
    "        if verbose:\n",
    "            print('log_likelihood = ', log_likelihood)\n",
    "            print('R = ', R)\n",
    "            print('regularized_ll = ', log_likelihood - self.lmd * R)\n",
    "        return log_likelihood - self.lmd * R\n",
    "    \n",
    "    def GetLabel(self):\n",
    "        return np.argmax(self.posterior_prob, axis=1)"
   ]
  },
  {
   "cell_type": "code",
   "execution_count": 266,
   "metadata": {},
   "outputs": [],
   "source": [
    "from sklearn import preprocessing\n",
    "normalized = preprocessing.normalize(moons_pos)"
   ]
  },
  {
   "cell_type": "code",
   "execution_count": 267,
   "metadata": {},
   "outputs": [
    {
     "name": "stdout",
     "output_type": "stream",
     "text": [
      "\n",
      "iteration #200, reg_ll = -498.07849256386316\n",
      "\n",
      "iteration #400, reg_ll = -403.2419136467686\n",
      "\n",
      "iteration #600, reg_ll = -377.83836423612576\n",
      "\n",
      "iteration #800, reg_ll = -370.72690772327707\n",
      "\n",
      "iteration #1000, reg_ll = -368.7553682654479\n",
      "\n",
      "iteration #1200, reg_ll = -368.2259064969941\n",
      "\n",
      "iteration #1400, reg_ll = -368.09540814338646\n",
      "\n",
      "iteration #1600, reg_ll = -368.07078645901544\n"
     ]
    }
   ],
   "source": [
    "lapgmm = LapGMM(moons_pos,K=2, p=8, lmd=1e3, tol=1e-6,\\\n",
    "                weight_matrix='D-P',inner_max_iter = 200,outer_max_iter=2000)\n",
    "lapgmm.run()"
   ]
  },
  {
   "cell_type": "code",
   "execution_count": 268,
   "metadata": {},
   "outputs": [
    {
     "name": "stdout",
     "output_type": "stream",
     "text": [
      "# iterations:  1673\n"
     ]
    }
   ],
   "source": [
    "print('# iterations: ', lapgmm.count)"
   ]
  },
  {
   "cell_type": "code",
   "execution_count": 269,
   "metadata": {},
   "outputs": [],
   "source": [
    "labels = lapgmm.GetLabel()"
   ]
  },
  {
   "cell_type": "code",
   "execution_count": 270,
   "metadata": {},
   "outputs": [
    {
     "data": {
      "text/plain": [
       "Text(0.5, 1.0, 'LapGMM Clustering')"
      ]
     },
     "execution_count": 270,
     "metadata": {},
     "output_type": "execute_result"
    },
    {
     "data": {
      "image/png": "[encoded data removed]",
      "text/plain": [
       "<Figure size 576x360 with 1 Axes>"
      ]
     },
     "metadata": {
      "needs_background": "light"
     },
     "output_type": "display_data"
    }
   ],
   "source": [
    "plt.plot(moons_pos[labels==1,0],moons_pos[labels==1,1],'b.')\n",
    "plt.plot(moons_pos[labels==0,0],moons_pos[labels==0,1],'r.')\n",
    "plt.title('LapGMM Clustering')"
   ]
  },
  {
   "cell_type": "markdown",
   "metadata": {},
   "source": [
    "# Entropy analysis"
   ]
  },
  {
   "cell_type": "markdown",
   "metadata": {},
   "source": [
    "## Experiment"
   ]
  },
  {
   "cell_type": "markdown",
   "metadata": {},
   "source": [
    "- Now the algorithm has converged when setting tol = 1e-6, and gives the following reg_loglikelihood "
   ]
  },
  {
   "cell_type": "code",
   "execution_count": 271,
   "metadata": {},
   "outputs": [
    {
     "name": "stdout",
     "output_type": "stream",
     "text": [
      "The algorithm gives reg_loglikelihood =  -368.0697727027633\n"
     ]
    }
   ],
   "source": [
    "final_reg_ll = lapgmm.reg_loglikelihood\n",
    "print('The algorithm gives reg_loglikelihood = ', final_reg_ll)"
   ]
  },
  {
   "cell_type": "markdown",
   "metadata": {},
   "source": [
    "- And if we run E-step now, which should do no harm to regularized log likelihood"
   ]
  },
  {
   "cell_type": "code",
   "execution_count": 278,
   "metadata": {},
   "outputs": [],
   "source": [
    "# record the final posterior probability that the algorithm gives\n",
    "post_prob_before_E_step = lapgmm.posterior_prob\n",
    "# record the posterior probability if we run E-step further\n",
    "post_prob_after_E_step = lapgmm._E_step()"
   ]
  },
  {
   "cell_type": "code",
   "execution_count": 279,
   "metadata": {},
   "outputs": [
    {
     "name": "stdout",
     "output_type": "stream",
     "text": [
      "log_likelihood =  -359.946267510427\n",
      "R =  6.268439268826506\n",
      "regularized_ll =  -6628.385536336933\n",
      "regularized log likelihood after E-step -6628.385536336933\n"
     ]
    }
   ],
   "source": [
    "# Calculate the regularized log likelihood after E-step\n",
    "_, alpha_after_E_step, mu_after_E_step, sigma_after_E_step=lapgmm._M_step(post_prob_after_E_step,gamma=0.0)\n",
    "\n",
    "reg_ll_after_E_step = lapgmm._Eval_Regularized_LL(post_prob_after_E_step,alpha_after_E_step,\\\n",
    "                            mu_after_E_step,sigma_after_E_step,lapgmm.data,verbose=True)\n",
    "print('regularized log likelihood after E-step',reg_ll_after_E_step)"
   ]
  },
  {
   "cell_type": "markdown",
   "metadata": {},
   "source": [
    "- However"
   ]
  },
  {
   "cell_type": "code",
   "execution_count": 280,
   "metadata": {},
   "outputs": [
    {
     "data": {
      "text/html": [
       "<div>\n",
       "<style scoped>\n",
       "    .dataframe tbody tr th:only-of-type {\n",
       "        vertical-align: middle;\n",
       "    }\n",
       "\n",
       "    .dataframe tbody tr th {\n",
       "        vertical-align: top;\n",
       "    }\n",
       "\n",
       "    .dataframe thead th {\n",
       "        text-align: right;\n",
       "    }\n",
       "</style>\n",
       "<table border=\"1\" class=\"dataframe\">\n",
       "  <thead>\n",
       "    <tr style=\"text-align: right;\">\n",
       "      <th></th>\n",
       "      <th>Before_E_step</th>\n",
       "      <th>After_E_step</th>\n",
       "    </tr>\n",
       "  </thead>\n",
       "  <tbody>\n",
       "    <tr>\n",
       "      <th>Regularized Log Likelihood</th>\n",
       "      <td>-368.069773</td>\n",
       "      <td>-6628.385536</td>\n",
       "    </tr>\n",
       "  </tbody>\n",
       "</table>\n",
       "</div>"
      ],
      "text/plain": [
       "                            Before_E_step  After_E_step\n",
       "Regularized Log Likelihood    -368.069773  -6628.385536"
      ]
     },
     "execution_count": 280,
     "metadata": {},
     "output_type": "execute_result"
    }
   ],
   "source": [
    "df = pd.DataFrame([{'Before_E_step':final_reg_ll,'After_E_step':reg_ll_after_E_step}])\n",
    "df.index = ['Regularized Log Likelihood']\n",
    "df"
   ]
  },
  {
   "cell_type": "markdown",
   "metadata": {},
   "source": [
    "- However, We notice that the performance (regularized log likelihood) decreases dramatically\n",
    "- EM requires when we reset the posterior probability distribution (E-step), the performance can not decrease.\n",
    "> In this algorithm, E-step and M-step are shooting at different target.\n",
    "> E-step's target is pure log likelihood, shooting it using KL-divergence / Jensen's inequality.\n",
    "> M-step's target is regularized log likelihood, shooting it using Newton-Raphson method and characteristic of normal distribution.\n",
    "- This is not EM algorithm, at least it doesn't follow the spirit of EM. And this mixture doesn't seem to work well as expected."
   ]
  },
  {
   "cell_type": "code",
   "execution_count": null,
   "metadata": {},
   "outputs": [],
   "source": []
  }
 ],
 "metadata": {
  "kernelspec": {
   "display_name": "Python 3",
   "language": "python",
   "name": "python3"
  },
  "language_info": {
   "codemirror_mode": {
    "name": "ipython",
    "version": 3
   },
   "file_extension": ".py",
   "mimetype": "text/x-python",
   "name": "python",
   "nbconvert_exporter": "python",
   "pygments_lexer": "ipython3",
   "version": "3.7.6"
  }
 },
 "nbformat": 4,
 "nbformat_minor": 4
}
